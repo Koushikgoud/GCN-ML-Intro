{
  "nbformat": 4,
  "nbformat_minor": 0,
  "metadata": {
    "colab": {
      "provenance": [],
      "authorship_tag": "ABX9TyMp3cAKVYDvO2jJpronp4SU",
      "include_colab_link": true
    },
    "kernelspec": {
      "name": "python3",
      "display_name": "Python 3"
    },
    "language_info": {
      "name": "python"
    }
  },
  "cells": [
    {
      "cell_type": "markdown",
      "metadata": {
        "id": "view-in-github",
        "colab_type": "text"
      },
      "source": [
        "<a href=\"https://colab.research.google.com/github/Koushikgoud/GCN-ML-Intro/blob/main/GCN.ipynb\" target=\"_parent\"><img src=\"https://colab.research.google.com/assets/colab-badge.svg\" alt=\"Open In Colab\"/></a>"
      ]
    },
    {
      "cell_type": "code",
      "execution_count": null,
      "metadata": {
        "id": "PmQgJVwYjbX8"
      },
      "outputs": [],
      "source": [
        "import sys\n",
        "if 'google.colab' in sys.modules:\n",
        "  %pip install -q stellargraph[demos]==1.0.0rc1"
      ]
    },
    {
      "cell_type": "code",
      "source": [
        "import stellargraph as sg \n",
        "\n",
        "try:\n",
        "  sg.utils.validate_notebook_version(\"1.0.0rc1\")\n",
        "except AttributeError:\n",
        "  raise ValueError(\n",
        "      f\"This notebook requires StellarGraph version 1.0.0rc1, but a different version {sg.__version__} is installed.  Please see <https://github.com/stellargraph/stellargraph/issues/1172>.\"\n",
        "  ) from None\n"
      ],
      "metadata": {
        "id": "fC-FUs2Xjnps"
      },
      "execution_count": 4,
      "outputs": []
    },
    {
      "cell_type": "code",
      "source": [
        "import pandas as pd\n",
        "import os\n",
        "import stellargraph as sg\n",
        "from stellargraph.mapper import FullBatchNodeGenerator\n",
        "from stellargraph.layer import GCN\n",
        "\n",
        "from tensorflow.keras import layers, optimizers, losses, metrics, Model\n",
        "from sklearn import preprocessing, model_selection\n",
        "from IPython.display import display, HTML\n",
        "import matplotlib.pyplot as plt\n",
        "%matplotlib inline\n"
      ],
      "metadata": {
        "id": "IcdwpYRSkeTM"
      },
      "execution_count": 5,
      "outputs": []
    },
    {
      "cell_type": "code",
      "source": [
        "dataset = sg.datasets.Cora()\n",
        "display(HTML(dataset.description))\n",
        "G, node_subjects = dataset.load()"
      ],
      "metadata": {
        "colab": {
          "base_uri": "https://localhost:8080/",
          "height": 52
        },
        "id": "GLmTqSKml0vC",
        "outputId": "30caa00d-cfbd-4e67-ce45-4e1e657495f0"
      },
      "execution_count": 6,
      "outputs": [
        {
          "output_type": "display_data",
          "data": {
            "text/plain": [
              "<IPython.core.display.HTML object>"
            ],
            "text/html": [
              "The Cora dataset consists of 2708 scientific publications classified into one of seven classes. The citation network consists of 5429 links. Each publication in the dataset is described by a 0/1-valued word vector indicating the absence/presence of the corresponding word from the dictionary. The dictionary consists of 1433 unique words."
            ]
          },
          "metadata": {}
        }
      ]
    },
    {
      "cell_type": "code",
      "source": [
        "print(G.info())"
      ],
      "metadata": {
        "id": "v_kRskOtmThS"
      },
      "execution_count": null,
      "outputs": []
    },
    {
      "cell_type": "code",
      "source": [
        "node_subjects.value_counts().to_frame()"
      ],
      "metadata": {
        "id": "Va17Gorcmmc9"
      },
      "execution_count": null,
      "outputs": []
    },
    {
      "cell_type": "code",
      "source": [
        "train_subjects, test_subjects = model_selection.train_test_split(\n",
        "    node_subjects, train_size=140, test_size=None, stratify=node_subjects\n",
        ")\n",
        "val_subjects, test_subjects = model_selection.train_test_split(\n",
        "    test_subjects, train_size=500, test_size=None, stratify=test_subjects\n",
        ")"
      ],
      "metadata": {
        "id": "tmvqJqvKkX0g"
      },
      "execution_count": 13,
      "outputs": []
    },
    {
      "cell_type": "code",
      "source": [
        "train_subjects.value_counts().to_frame()"
      ],
      "metadata": {
        "id": "2gyhkPVFlbjD"
      },
      "execution_count": null,
      "outputs": []
    },
    {
      "cell_type": "code",
      "source": [
        "target_encoding = preprocessing.LabelBinarizer()\n",
        "\n",
        "train_targets = target_encoding.fit_transform(train_subjects)\n",
        "val_targets = target_encoding.transform(val_subjects)\n",
        "test_targets = target_encoding.transform(test_subjects)\n"
      ],
      "metadata": {
        "id": "_0ZJNEHbph2K"
      },
      "execution_count": 20,
      "outputs": []
    },
    {
      "cell_type": "code",
      "source": [
        "generator = FullBatchNodeGenerator(G, method = \"gcn\")"
      ],
      "metadata": {
        "id": "zipqQN8XzEZM"
      },
      "execution_count": null,
      "outputs": []
    },
    {
      "cell_type": "code",
      "source": [
        "train_gen = generator.flow(train_subjects.index, train_targets)"
      ],
      "metadata": {
        "id": "q-Wx6I44zOPv"
      },
      "execution_count": 24,
      "outputs": []
    },
    {
      "cell_type": "code",
      "source": [
        "gcn = GCN(\n",
        "    layer_sizes = [16, 16], activations = [\"relu\", \"relu\"], generator = generator, dropout=0.5\n",
        ")"
      ],
      "metadata": {
        "id": "wuQM3QRH1qV1"
      },
      "execution_count": 25,
      "outputs": []
    },
    {
      "cell_type": "code",
      "source": [
        "x_inp, x_out = gcn.in_out_tensors()\n",
        "x_out"
      ],
      "metadata": {
        "id": "nYWlAzl72xqp"
      },
      "execution_count": null,
      "outputs": []
    },
    {
      "cell_type": "code",
      "source": [
        "predictions = layers.Dense(units=train_targets.shape[1], activation = \"softmax\")(x_out)"
      ],
      "metadata": {
        "id": "QVekslwL5grs"
      },
      "execution_count": 29,
      "outputs": []
    },
    {
      "cell_type": "code",
      "source": [
        "model = Model(inputs = x_inp, outputs = predictions)\n",
        "model.compile(\n",
        "    optimizer = optimizers.Adam(learning_rate=0.01),\n",
        "    loss = losses.categorical_crossentropy,\n",
        "    metrics = [\"acc\"],\n",
        ")"
      ],
      "metadata": {
        "id": "Q8ju_AbvzBgy"
      },
      "execution_count": 32,
      "outputs": []
    },
    {
      "cell_type": "code",
      "source": [
        "val_gen = generator.flow(val_subjects.index, val_targets)"
      ],
      "metadata": {
        "id": "v4SSLuzb1D6g"
      },
      "execution_count": 33,
      "outputs": []
    },
    {
      "cell_type": "code",
      "source": [
        "from tensorflow.keras.callbacks import EarlyStopping\n",
        "\n",
        "es_callback = EarlyStopping(monitor=\"val_acc\", patience=50, restore_best_weights=True)"
      ],
      "metadata": {
        "id": "3v0LnO5u1MdW"
      },
      "execution_count": 35,
      "outputs": []
    },
    {
      "cell_type": "code",
      "source": [
        "history = model.fit(\n",
        "    train_gen,\n",
        "    epochs = 200,\n",
        "    validation_data = val_gen,\n",
        "    verbose = 2,\n",
        "    shuffle = False,\n",
        "    callbacks = [es_callback],\n",
        "\n",
        ")"
      ],
      "metadata": {
        "colab": {
          "base_uri": "https://localhost:8080/"
        },
        "id": "PIcuDkyR2Gjw",
        "outputId": "e8a2b1ad-868a-4040-902e-196640b46670"
      },
      "execution_count": 36,
      "outputs": [
        {
          "output_type": "stream",
          "name": "stdout",
          "text": [
            "Epoch 1/200\n",
            "1/1 - 2s - loss: 1.9453 - acc: 0.1286 - val_loss: 1.9002 - val_acc: 0.3480 - 2s/epoch - 2s/step\n",
            "Epoch 2/200\n",
            "1/1 - 0s - loss: 1.8946 - acc: 0.2929 - val_loss: 1.8578 - val_acc: 0.3500 - 142ms/epoch - 142ms/step\n",
            "Epoch 3/200\n",
            "1/1 - 0s - loss: 1.8427 - acc: 0.3571 - val_loss: 1.8046 - val_acc: 0.3220 - 132ms/epoch - 132ms/step\n",
            "Epoch 4/200\n",
            "1/1 - 0s - loss: 1.7513 - acc: 0.3714 - val_loss: 1.7419 - val_acc: 0.3260 - 140ms/epoch - 140ms/step\n",
            "Epoch 5/200\n",
            "1/1 - 0s - loss: 1.6899 - acc: 0.3214 - val_loss: 1.6762 - val_acc: 0.3420 - 125ms/epoch - 125ms/step\n",
            "Epoch 6/200\n",
            "1/1 - 0s - loss: 1.5951 - acc: 0.3929 - val_loss: 1.6076 - val_acc: 0.3600 - 123ms/epoch - 123ms/step\n",
            "Epoch 7/200\n",
            "1/1 - 0s - loss: 1.4992 - acc: 0.4429 - val_loss: 1.5371 - val_acc: 0.3940 - 126ms/epoch - 126ms/step\n",
            "Epoch 8/200\n",
            "1/1 - 0s - loss: 1.4211 - acc: 0.4857 - val_loss: 1.4652 - val_acc: 0.4400 - 123ms/epoch - 123ms/step\n",
            "Epoch 9/200\n",
            "1/1 - 0s - loss: 1.3046 - acc: 0.5429 - val_loss: 1.3909 - val_acc: 0.4780 - 134ms/epoch - 134ms/step\n",
            "Epoch 10/200\n",
            "1/1 - 0s - loss: 1.2360 - acc: 0.6143 - val_loss: 1.3153 - val_acc: 0.5360 - 139ms/epoch - 139ms/step\n",
            "Epoch 11/200\n",
            "1/1 - 0s - loss: 1.1416 - acc: 0.6214 - val_loss: 1.2410 - val_acc: 0.5860 - 121ms/epoch - 121ms/step\n",
            "Epoch 12/200\n",
            "1/1 - 0s - loss: 1.0472 - acc: 0.6643 - val_loss: 1.1691 - val_acc: 0.6260 - 123ms/epoch - 123ms/step\n",
            "Epoch 13/200\n",
            "1/1 - 0s - loss: 0.9470 - acc: 0.6786 - val_loss: 1.1036 - val_acc: 0.6440 - 125ms/epoch - 125ms/step\n",
            "Epoch 14/200\n",
            "1/1 - 0s - loss: 0.8614 - acc: 0.7500 - val_loss: 1.0490 - val_acc: 0.6500 - 126ms/epoch - 126ms/step\n",
            "Epoch 15/200\n",
            "1/1 - 0s - loss: 0.8114 - acc: 0.7643 - val_loss: 1.0007 - val_acc: 0.6680 - 125ms/epoch - 125ms/step\n",
            "Epoch 16/200\n",
            "1/1 - 0s - loss: 0.7262 - acc: 0.7786 - val_loss: 0.9534 - val_acc: 0.6740 - 128ms/epoch - 128ms/step\n",
            "Epoch 17/200\n",
            "1/1 - 0s - loss: 0.6761 - acc: 0.7857 - val_loss: 0.9131 - val_acc: 0.6880 - 124ms/epoch - 124ms/step\n",
            "Epoch 18/200\n",
            "1/1 - 0s - loss: 0.5681 - acc: 0.8071 - val_loss: 0.8752 - val_acc: 0.7160 - 125ms/epoch - 125ms/step\n",
            "Epoch 19/200\n",
            "1/1 - 0s - loss: 0.5570 - acc: 0.8214 - val_loss: 0.8436 - val_acc: 0.7400 - 121ms/epoch - 121ms/step\n",
            "Epoch 20/200\n",
            "1/1 - 0s - loss: 0.4490 - acc: 0.9071 - val_loss: 0.8172 - val_acc: 0.7560 - 122ms/epoch - 122ms/step\n",
            "Epoch 21/200\n",
            "1/1 - 0s - loss: 0.4807 - acc: 0.8786 - val_loss: 0.7908 - val_acc: 0.7640 - 125ms/epoch - 125ms/step\n",
            "Epoch 22/200\n",
            "1/1 - 0s - loss: 0.3843 - acc: 0.9000 - val_loss: 0.7729 - val_acc: 0.7600 - 134ms/epoch - 134ms/step\n",
            "Epoch 23/200\n",
            "1/1 - 0s - loss: 0.3783 - acc: 0.8857 - val_loss: 0.7656 - val_acc: 0.7700 - 123ms/epoch - 123ms/step\n",
            "Epoch 24/200\n",
            "1/1 - 0s - loss: 0.3424 - acc: 0.9214 - val_loss: 0.7691 - val_acc: 0.7720 - 123ms/epoch - 123ms/step\n",
            "Epoch 25/200\n",
            "1/1 - 0s - loss: 0.3059 - acc: 0.9071 - val_loss: 0.7729 - val_acc: 0.7700 - 122ms/epoch - 122ms/step\n",
            "Epoch 26/200\n",
            "1/1 - 0s - loss: 0.2584 - acc: 0.9500 - val_loss: 0.7764 - val_acc: 0.7780 - 126ms/epoch - 126ms/step\n",
            "Epoch 27/200\n",
            "1/1 - 0s - loss: 0.2696 - acc: 0.9143 - val_loss: 0.7848 - val_acc: 0.7780 - 128ms/epoch - 128ms/step\n",
            "Epoch 28/200\n",
            "1/1 - 0s - loss: 0.2291 - acc: 0.9286 - val_loss: 0.7853 - val_acc: 0.7780 - 130ms/epoch - 130ms/step\n",
            "Epoch 29/200\n",
            "1/1 - 0s - loss: 0.2068 - acc: 0.9429 - val_loss: 0.7788 - val_acc: 0.7820 - 125ms/epoch - 125ms/step\n",
            "Epoch 30/200\n",
            "1/1 - 0s - loss: 0.1826 - acc: 0.9571 - val_loss: 0.7741 - val_acc: 0.7800 - 122ms/epoch - 122ms/step\n",
            "Epoch 31/200\n",
            "1/1 - 0s - loss: 0.1858 - acc: 0.9429 - val_loss: 0.7706 - val_acc: 0.7820 - 122ms/epoch - 122ms/step\n",
            "Epoch 32/200\n",
            "1/1 - 0s - loss: 0.1623 - acc: 0.9571 - val_loss: 0.7690 - val_acc: 0.7800 - 124ms/epoch - 124ms/step\n",
            "Epoch 33/200\n",
            "1/1 - 0s - loss: 0.1539 - acc: 0.9643 - val_loss: 0.7763 - val_acc: 0.7840 - 121ms/epoch - 121ms/step\n",
            "Epoch 34/200\n",
            "1/1 - 0s - loss: 0.1716 - acc: 0.9357 - val_loss: 0.7872 - val_acc: 0.7840 - 127ms/epoch - 127ms/step\n",
            "Epoch 35/200\n",
            "1/1 - 0s - loss: 0.1269 - acc: 0.9571 - val_loss: 0.8083 - val_acc: 0.7800 - 132ms/epoch - 132ms/step\n",
            "Epoch 36/200\n",
            "1/1 - 0s - loss: 0.1286 - acc: 0.9643 - val_loss: 0.8332 - val_acc: 0.7840 - 121ms/epoch - 121ms/step\n",
            "Epoch 37/200\n",
            "1/1 - 0s - loss: 0.1279 - acc: 0.9786 - val_loss: 0.8625 - val_acc: 0.7800 - 121ms/epoch - 121ms/step\n",
            "Epoch 38/200\n",
            "1/1 - 0s - loss: 0.1122 - acc: 0.9714 - val_loss: 0.8924 - val_acc: 0.7780 - 140ms/epoch - 140ms/step\n",
            "Epoch 39/200\n",
            "1/1 - 0s - loss: 0.1318 - acc: 0.9643 - val_loss: 0.9086 - val_acc: 0.7740 - 128ms/epoch - 128ms/step\n",
            "Epoch 40/200\n",
            "1/1 - 0s - loss: 0.1375 - acc: 0.9429 - val_loss: 0.9132 - val_acc: 0.7740 - 125ms/epoch - 125ms/step\n",
            "Epoch 41/200\n",
            "1/1 - 0s - loss: 0.1164 - acc: 0.9500 - val_loss: 0.9191 - val_acc: 0.7760 - 135ms/epoch - 135ms/step\n",
            "Epoch 42/200\n",
            "1/1 - 0s - loss: 0.0826 - acc: 0.9643 - val_loss: 0.9138 - val_acc: 0.7760 - 129ms/epoch - 129ms/step\n",
            "Epoch 43/200\n",
            "1/1 - 0s - loss: 0.0845 - acc: 0.9714 - val_loss: 0.9048 - val_acc: 0.7740 - 124ms/epoch - 124ms/step\n",
            "Epoch 44/200\n",
            "1/1 - 0s - loss: 0.0732 - acc: 0.9786 - val_loss: 0.8981 - val_acc: 0.7800 - 129ms/epoch - 129ms/step\n",
            "Epoch 45/200\n",
            "1/1 - 0s - loss: 0.0925 - acc: 0.9643 - val_loss: 0.8957 - val_acc: 0.7820 - 122ms/epoch - 122ms/step\n",
            "Epoch 46/200\n",
            "1/1 - 0s - loss: 0.0730 - acc: 0.9857 - val_loss: 0.8965 - val_acc: 0.7780 - 126ms/epoch - 126ms/step\n",
            "Epoch 47/200\n",
            "1/1 - 0s - loss: 0.1032 - acc: 0.9643 - val_loss: 0.8993 - val_acc: 0.7800 - 124ms/epoch - 124ms/step\n",
            "Epoch 48/200\n",
            "1/1 - 0s - loss: 0.0522 - acc: 0.9929 - val_loss: 0.9032 - val_acc: 0.7780 - 131ms/epoch - 131ms/step\n",
            "Epoch 49/200\n",
            "1/1 - 0s - loss: 0.0666 - acc: 0.9786 - val_loss: 0.9052 - val_acc: 0.7820 - 133ms/epoch - 133ms/step\n",
            "Epoch 50/200\n",
            "1/1 - 0s - loss: 0.0780 - acc: 0.9643 - val_loss: 0.9093 - val_acc: 0.7820 - 123ms/epoch - 123ms/step\n",
            "Epoch 51/200\n",
            "1/1 - 0s - loss: 0.0514 - acc: 0.9857 - val_loss: 0.9164 - val_acc: 0.7880 - 131ms/epoch - 131ms/step\n",
            "Epoch 52/200\n",
            "1/1 - 0s - loss: 0.0439 - acc: 0.9929 - val_loss: 0.9241 - val_acc: 0.7860 - 131ms/epoch - 131ms/step\n",
            "Epoch 53/200\n",
            "1/1 - 0s - loss: 0.0820 - acc: 0.9786 - val_loss: 0.9313 - val_acc: 0.7820 - 125ms/epoch - 125ms/step\n",
            "Epoch 54/200\n",
            "1/1 - 0s - loss: 0.0980 - acc: 0.9714 - val_loss: 0.9372 - val_acc: 0.7840 - 129ms/epoch - 129ms/step\n",
            "Epoch 55/200\n",
            "1/1 - 0s - loss: 0.0399 - acc: 0.9929 - val_loss: 0.9445 - val_acc: 0.7820 - 132ms/epoch - 132ms/step\n",
            "Epoch 56/200\n",
            "1/1 - 0s - loss: 0.0704 - acc: 0.9643 - val_loss: 0.9502 - val_acc: 0.7820 - 127ms/epoch - 127ms/step\n",
            "Epoch 57/200\n",
            "1/1 - 0s - loss: 0.0439 - acc: 0.9929 - val_loss: 0.9563 - val_acc: 0.7820 - 130ms/epoch - 130ms/step\n",
            "Epoch 58/200\n",
            "1/1 - 0s - loss: 0.0349 - acc: 0.9929 - val_loss: 0.9620 - val_acc: 0.7820 - 127ms/epoch - 127ms/step\n",
            "Epoch 59/200\n",
            "1/1 - 0s - loss: 0.0776 - acc: 0.9714 - val_loss: 0.9690 - val_acc: 0.7820 - 124ms/epoch - 124ms/step\n",
            "Epoch 60/200\n",
            "1/1 - 0s - loss: 0.0460 - acc: 0.9929 - val_loss: 0.9757 - val_acc: 0.7780 - 132ms/epoch - 132ms/step\n",
            "Epoch 61/200\n",
            "1/1 - 0s - loss: 0.0519 - acc: 0.9929 - val_loss: 0.9824 - val_acc: 0.7800 - 124ms/epoch - 124ms/step\n",
            "Epoch 62/200\n",
            "1/1 - 0s - loss: 0.0517 - acc: 0.9786 - val_loss: 0.9905 - val_acc: 0.7800 - 130ms/epoch - 130ms/step\n",
            "Epoch 63/200\n",
            "1/1 - 0s - loss: 0.0420 - acc: 0.9857 - val_loss: 1.0004 - val_acc: 0.7800 - 127ms/epoch - 127ms/step\n",
            "Epoch 64/200\n",
            "1/1 - 0s - loss: 0.0457 - acc: 0.9786 - val_loss: 1.0100 - val_acc: 0.7760 - 126ms/epoch - 126ms/step\n",
            "Epoch 65/200\n",
            "1/1 - 0s - loss: 0.0770 - acc: 0.9643 - val_loss: 1.0126 - val_acc: 0.7800 - 129ms/epoch - 129ms/step\n",
            "Epoch 66/200\n",
            "1/1 - 0s - loss: 0.0497 - acc: 0.9857 - val_loss: 1.0151 - val_acc: 0.7800 - 126ms/epoch - 126ms/step\n",
            "Epoch 67/200\n",
            "1/1 - 0s - loss: 0.0514 - acc: 0.9929 - val_loss: 1.0178 - val_acc: 0.7840 - 125ms/epoch - 125ms/step\n",
            "Epoch 68/200\n",
            "1/1 - 0s - loss: 0.0469 - acc: 0.9857 - val_loss: 1.0227 - val_acc: 0.7760 - 129ms/epoch - 129ms/step\n",
            "Epoch 69/200\n",
            "1/1 - 0s - loss: 0.0478 - acc: 0.9857 - val_loss: 1.0317 - val_acc: 0.7780 - 127ms/epoch - 127ms/step\n",
            "Epoch 70/200\n",
            "1/1 - 0s - loss: 0.0480 - acc: 0.9857 - val_loss: 1.0389 - val_acc: 0.7760 - 125ms/epoch - 125ms/step\n",
            "Epoch 71/200\n",
            "1/1 - 0s - loss: 0.0626 - acc: 0.9786 - val_loss: 1.0521 - val_acc: 0.7780 - 121ms/epoch - 121ms/step\n",
            "Epoch 72/200\n",
            "1/1 - 0s - loss: 0.0640 - acc: 0.9857 - val_loss: 1.0659 - val_acc: 0.7780 - 125ms/epoch - 125ms/step\n",
            "Epoch 73/200\n",
            "1/1 - 0s - loss: 0.0864 - acc: 0.9571 - val_loss: 1.0786 - val_acc: 0.7820 - 123ms/epoch - 123ms/step\n",
            "Epoch 74/200\n",
            "1/1 - 0s - loss: 0.0416 - acc: 0.9857 - val_loss: 1.0914 - val_acc: 0.7780 - 121ms/epoch - 121ms/step\n",
            "Epoch 75/200\n",
            "1/1 - 0s - loss: 0.0439 - acc: 0.9857 - val_loss: 1.0997 - val_acc: 0.7780 - 131ms/epoch - 131ms/step\n",
            "Epoch 76/200\n",
            "1/1 - 0s - loss: 0.0557 - acc: 0.9714 - val_loss: 1.1019 - val_acc: 0.7780 - 122ms/epoch - 122ms/step\n",
            "Epoch 77/200\n",
            "1/1 - 0s - loss: 0.0142 - acc: 1.0000 - val_loss: 1.1047 - val_acc: 0.7820 - 122ms/epoch - 122ms/step\n",
            "Epoch 78/200\n",
            "1/1 - 0s - loss: 0.0310 - acc: 1.0000 - val_loss: 1.1087 - val_acc: 0.7820 - 131ms/epoch - 131ms/step\n",
            "Epoch 79/200\n",
            "1/1 - 0s - loss: 0.0374 - acc: 0.9929 - val_loss: 1.1080 - val_acc: 0.7820 - 120ms/epoch - 120ms/step\n",
            "Epoch 80/200\n",
            "1/1 - 0s - loss: 0.0893 - acc: 0.9643 - val_loss: 1.1104 - val_acc: 0.7800 - 123ms/epoch - 123ms/step\n",
            "Epoch 81/200\n",
            "1/1 - 0s - loss: 0.0466 - acc: 0.9857 - val_loss: 1.1074 - val_acc: 0.7800 - 121ms/epoch - 121ms/step\n",
            "Epoch 82/200\n",
            "1/1 - 0s - loss: 0.0192 - acc: 1.0000 - val_loss: 1.1052 - val_acc: 0.7800 - 126ms/epoch - 126ms/step\n",
            "Epoch 83/200\n",
            "1/1 - 0s - loss: 0.0261 - acc: 0.9929 - val_loss: 1.1073 - val_acc: 0.7780 - 128ms/epoch - 128ms/step\n",
            "Epoch 84/200\n",
            "1/1 - 0s - loss: 0.0199 - acc: 1.0000 - val_loss: 1.1102 - val_acc: 0.7780 - 127ms/epoch - 127ms/step\n",
            "Epoch 85/200\n",
            "1/1 - 0s - loss: 0.0491 - acc: 0.9857 - val_loss: 1.1168 - val_acc: 0.7740 - 125ms/epoch - 125ms/step\n",
            "Epoch 86/200\n",
            "1/1 - 0s - loss: 0.0502 - acc: 0.9857 - val_loss: 1.1261 - val_acc: 0.7740 - 134ms/epoch - 134ms/step\n",
            "Epoch 87/200\n",
            "1/1 - 0s - loss: 0.0413 - acc: 0.9857 - val_loss: 1.1391 - val_acc: 0.7740 - 124ms/epoch - 124ms/step\n",
            "Epoch 88/200\n",
            "1/1 - 0s - loss: 0.0320 - acc: 0.9929 - val_loss: 1.1524 - val_acc: 0.7740 - 127ms/epoch - 127ms/step\n",
            "Epoch 89/200\n",
            "1/1 - 0s - loss: 0.0296 - acc: 0.9929 - val_loss: 1.1668 - val_acc: 0.7760 - 136ms/epoch - 136ms/step\n",
            "Epoch 90/200\n",
            "1/1 - 0s - loss: 0.0190 - acc: 0.9929 - val_loss: 1.1821 - val_acc: 0.7780 - 127ms/epoch - 127ms/step\n",
            "Epoch 91/200\n",
            "1/1 - 0s - loss: 0.0349 - acc: 0.9929 - val_loss: 1.1959 - val_acc: 0.7760 - 129ms/epoch - 129ms/step\n",
            "Epoch 92/200\n",
            "1/1 - 0s - loss: 0.0221 - acc: 1.0000 - val_loss: 1.2049 - val_acc: 0.7760 - 136ms/epoch - 136ms/step\n",
            "Epoch 93/200\n",
            "1/1 - 0s - loss: 0.0171 - acc: 0.9929 - val_loss: 1.2141 - val_acc: 0.7740 - 145ms/epoch - 145ms/step\n",
            "Epoch 94/200\n",
            "1/1 - 0s - loss: 0.0366 - acc: 0.9929 - val_loss: 1.2215 - val_acc: 0.7700 - 125ms/epoch - 125ms/step\n",
            "Epoch 95/200\n",
            "1/1 - 0s - loss: 0.0315 - acc: 0.9929 - val_loss: 1.2285 - val_acc: 0.7700 - 135ms/epoch - 135ms/step\n",
            "Epoch 96/200\n",
            "1/1 - 0s - loss: 0.0307 - acc: 0.9857 - val_loss: 1.2350 - val_acc: 0.7720 - 124ms/epoch - 124ms/step\n",
            "Epoch 97/200\n",
            "1/1 - 0s - loss: 0.0825 - acc: 0.9929 - val_loss: 1.2297 - val_acc: 0.7720 - 124ms/epoch - 124ms/step\n",
            "Epoch 98/200\n",
            "1/1 - 0s - loss: 0.0549 - acc: 0.9857 - val_loss: 1.2199 - val_acc: 0.7740 - 129ms/epoch - 129ms/step\n",
            "Epoch 99/200\n",
            "1/1 - 0s - loss: 0.0261 - acc: 1.0000 - val_loss: 1.2127 - val_acc: 0.7760 - 121ms/epoch - 121ms/step\n",
            "Epoch 100/200\n",
            "1/1 - 0s - loss: 0.0199 - acc: 1.0000 - val_loss: 1.2091 - val_acc: 0.7780 - 137ms/epoch - 137ms/step\n",
            "Epoch 101/200\n",
            "1/1 - 0s - loss: 0.0137 - acc: 1.0000 - val_loss: 1.2060 - val_acc: 0.7800 - 126ms/epoch - 126ms/step\n"
          ]
        }
      ]
    },
    {
      "cell_type": "code",
      "source": [
        "sg.utils.plot_history(history)"
      ],
      "metadata": {
        "colab": {
          "base_uri": "https://localhost:8080/",
          "height": 585
        },
        "id": "UZ129bnx2KqK",
        "outputId": "17f8cd26-6f31-405f-bd7e-d9525478e536"
      },
      "execution_count": 37,
      "outputs": [
        {
          "output_type": "display_data",
          "data": {
            "text/plain": [
              "<Figure size 504x576 with 2 Axes>"
            ],
            "image/png": "[encoded data removed]"
          },
          "metadata": {
            "needs_background": "light"
          }
        }
      ]
    },
    {
      "cell_type": "code",
      "source": [
        "test_gen = generator.flow(test_subjects.index, test_targets)"
      ],
      "metadata": {
        "id": "x8QdJ5iy3bbo"
      },
      "execution_count": 39,
      "outputs": []
    },
    {
      "cell_type": "code",
      "source": [
        "test_metrics = model.evaluate(test_gen)\n",
        "print(\"\\nTest Set Metrics:\")\n",
        "for name, val in zip(model.metrics_names, test_metrics):\n",
        "  print(\"\\t{}: {:0.4f}\".format(name, val))"
      ],
      "metadata": {
        "colab": {
          "base_uri": "https://localhost:8080/"
        },
        "id": "N4y8jtbr3mRt",
        "outputId": "3be5ead6-e79d-4a1b-c848-cf77c7ad59bd"
      },
      "execution_count": 41,
      "outputs": [
        {
          "output_type": "stream",
          "name": "stdout",
          "text": [
            "1/1 [==============================] - 0s 188ms/step - loss: 0.8848 - acc: 0.8056\n",
            "\n",
            "Test Set Metrics:\n",
            "\tloss: 0.8848\n",
            "\tacc: 0.8056\n"
          ]
        }
      ]
    },
    {
      "cell_type": "code",
      "source": [
        "all_nodes = node_subjects.index\n",
        "all_gen = generator.flow(all_nodes)\n",
        "all_predictions = model.predict(all_gen)\n"
      ],
      "metadata": {
        "colab": {
          "base_uri": "https://localhost:8080/"
        },
        "id": "eWins9lK4skj",
        "outputId": "857c36e5-4b1a-4aab-d44f-cd6443639f2a"
      },
      "execution_count": 42,
      "outputs": [
        {
          "output_type": "stream",
          "name": "stdout",
          "text": [
            "1/1 [==============================] - 0s 192ms/step\n"
          ]
        }
      ]
    },
    {
      "cell_type": "code",
      "source": [
        "node_predictions = target_encoding.inverse_transform(all_predictions.squeeze())"
      ],
      "metadata": {
        "id": "hG1fpI3R5Sho"
      },
      "execution_count": 44,
      "outputs": []
    },
    {
      "cell_type": "code",
      "source": [
        "df = pd.DataFrame({\"Predicted\":node_predictions, \"True\":node_subjects})\n",
        "df.head(20)"
      ],
      "metadata": {
        "colab": {
          "base_uri": "https://localhost:8080/",
          "height": 677
        },
        "id": "WNfpufwu5iDS",
        "outputId": "e03d9538-e2ba-427a-96cc-3b531a3fdc43"
      },
      "execution_count": 48,
      "outputs": [
        {
          "output_type": "execute_result",
          "data": {
            "text/plain": [
              "                      Predicted                    True\n",
              "31336           Neural_Networks         Neural_Networks\n",
              "1061127           Rule_Learning           Rule_Learning\n",
              "1106406  Reinforcement_Learning  Reinforcement_Learning\n",
              "13195    Reinforcement_Learning  Reinforcement_Learning\n",
              "37879     Probabilistic_Methods   Probabilistic_Methods\n",
              "1126012   Probabilistic_Methods   Probabilistic_Methods\n",
              "1107140  Reinforcement_Learning                  Theory\n",
              "1102850         Neural_Networks         Neural_Networks\n",
              "31349           Neural_Networks         Neural_Networks\n",
              "1106418                  Theory                  Theory\n",
              "1123188         Neural_Networks         Neural_Networks\n",
              "1128990         Neural_Networks      Genetic_Algorithms\n",
              "109323    Probabilistic_Methods   Probabilistic_Methods\n",
              "217139               Case_Based              Case_Based\n",
              "31353           Neural_Networks         Neural_Networks\n",
              "32083           Neural_Networks         Neural_Networks\n",
              "1126029  Reinforcement_Learning  Reinforcement_Learning\n",
              "1118017         Neural_Networks         Neural_Networks\n",
              "49482           Neural_Networks         Neural_Networks\n",
              "753265          Neural_Networks         Neural_Networks"
            ],
            "text/html": [
              "\n",
              "  <div id=\"df-dfdf027d-ff76-4799-93e1-4ca46840d232\">\n",
              "    <div class=\"colab-df-container\">\n",
              "      <div>\n",
              "<style scoped>\n",
              "    .dataframe tbody tr th:only-of-type {\n",
              "        vertical-align: middle;\n",
              "    }\n",
              "\n",
              "    .dataframe tbody tr th {\n",
              "        vertical-align: top;\n",
              "    }\n",
              "\n",
              "    .dataframe thead th {\n",
              "        text-align: right;\n",
              "    }\n",
              "</style>\n",
              "<table border=\"1\" class=\"dataframe\">\n",
              "  <thead>\n",
              "    <tr style=\"text-align: right;\">\n",
              "      <th></th>\n",
              "      <th>Predicted</th>\n",
              "      <th>True</th>\n",
              "    </tr>\n",
              "  </thead>\n",
              "  <tbody>\n",
              "    <tr>\n",
              "      <th>31336</th>\n",
              "      <td>Neural_Networks</td>\n",
              "      <td>Neural_Networks</td>\n",
              "    </tr>\n",
              "    <tr>\n",
              "      <th>1061127</th>\n",
              "      <td>Rule_Learning</td>\n",
              "      <td>Rule_Learning</td>\n",
              "    </tr>\n",
              "    <tr>\n",
              "      <th>1106406</th>\n",
              "      <td>Reinforcement_Learning</td>\n",
              "      <td>Reinforcement_Learning</td>\n",
              "    </tr>\n",
              "    <tr>\n",
              "      <th>13195</th>\n",
              "      <td>Reinforcement_Learning</td>\n",
              "      <td>Reinforcement_Learning</td>\n",
              "    </tr>\n",
              "    <tr>\n",
              "      <th>37879</th>\n",
              "      <td>Probabilistic_Methods</td>\n",
              "      <td>Probabilistic_Methods</td>\n",
              "    </tr>\n",
              "    <tr>\n",
              "      <th>1126012</th>\n",
              "      <td>Probabilistic_Methods</td>\n",
              "      <td>Probabilistic_Methods</td>\n",
              "    </tr>\n",
              "    <tr>\n",
              "      <th>1107140</th>\n",
              "      <td>Reinforcement_Learning</td>\n",
              "      <td>Theory</td>\n",
              "    </tr>\n",
              "    <tr>\n",
              "      <th>1102850</th>\n",
              "      <td>Neural_Networks</td>\n",
              "      <td>Neural_Networks</td>\n",
              "    </tr>\n",
              "    <tr>\n",
              "      <th>31349</th>\n",
              "      <td>Neural_Networks</td>\n",
              "      <td>Neural_Networks</td>\n",
              "    </tr>\n",
              "    <tr>\n",
              "      <th>1106418</th>\n",
              "      <td>Theory</td>\n",
              "      <td>Theory</td>\n",
              "    </tr>\n",
              "    <tr>\n",
              "      <th>1123188</th>\n",
              "      <td>Neural_Networks</td>\n",
              "      <td>Neural_Networks</td>\n",
              "    </tr>\n",
              "    <tr>\n",
              "      <th>1128990</th>\n",
              "      <td>Neural_Networks</td>\n",
              "      <td>Genetic_Algorithms</td>\n",
              "    </tr>\n",
              "    <tr>\n",
              "      <th>109323</th>\n",
              "      <td>Probabilistic_Methods</td>\n",
              "      <td>Probabilistic_Methods</td>\n",
              "    </tr>\n",
              "    <tr>\n",
              "      <th>217139</th>\n",
              "      <td>Case_Based</td>\n",
              "      <td>Case_Based</td>\n",
              "    </tr>\n",
              "    <tr>\n",
              "      <th>31353</th>\n",
              "      <td>Neural_Networks</td>\n",
              "      <td>Neural_Networks</td>\n",
              "    </tr>\n",
              "    <tr>\n",
              "      <th>32083</th>\n",
              "      <td>Neural_Networks</td>\n",
              "      <td>Neural_Networks</td>\n",
              "    </tr>\n",
              "    <tr>\n",
              "      <th>1126029</th>\n",
              "      <td>Reinforcement_Learning</td>\n",
              "      <td>Reinforcement_Learning</td>\n",
              "    </tr>\n",
              "    <tr>\n",
              "      <th>1118017</th>\n",
              "      <td>Neural_Networks</td>\n",
              "      <td>Neural_Networks</td>\n",
              "    </tr>\n",
              "    <tr>\n",
              "      <th>49482</th>\n",
              "      <td>Neural_Networks</td>\n",
              "      <td>Neural_Networks</td>\n",
              "    </tr>\n",
              "    <tr>\n",
              "      <th>753265</th>\n",
              "      <td>Neural_Networks</td>\n",
              "      <td>Neural_Networks</td>\n",
              "    </tr>\n",
              "  </tbody>\n",
              "</table>\n",
              "</div>\n",
              "      <button class=\"colab-df-convert\" onclick=\"convertToInteractive('df-dfdf027d-ff76-4799-93e1-4ca46840d232')\"\n",
              "              title=\"Convert this dataframe to an interactive table.\"\n",
              "              style=\"display:none;\">\n",
              "        \n",
              "  <svg xmlns=\"http://www.w3.org/2000/svg\" height=\"24px\"viewBox=\"0 0 24 24\"\n",
              "       width=\"24px\">\n",
              "    <path d=\"M0 0h24v24H0V0z\" fill=\"none\"/>\n",
              "    <path d=\"M18.56 5.44l.94 2.06.94-2.06 2.06-.94-2.06-.94-.94-2.06-.94 2.06-2.06.94zm-11 1L8.5 8.5l.94-2.06 2.06-.94-2.06-.94L8.5 2.5l-.94 2.06-2.06.94zm10 10l.94 2.06.94-2.06 2.06-.94-2.06-.94-.94-2.06-.94 2.06-2.06.94z\"/><path d=\"M17.41 7.96l-1.37-1.37c-.4-.4-.92-.59-1.43-.59-.52 0-1.04.2-1.43.59L10.3 9.45l-7.72 7.72c-.78.78-.78 2.05 0 2.83L4 21.41c.39.39.9.59 1.41.59.51 0 1.02-.2 1.41-.59l7.78-7.78 2.81-2.81c.8-.78.8-2.07 0-2.86zM5.41 20L4 18.59l7.72-7.72 1.47 1.35L5.41 20z\"/>\n",
              "  </svg>\n",
              "      </button>\n",
              "      \n",
              "  <style>\n",
              "    .colab-df-container {\n",
              "      display:flex;\n",
              "      flex-wrap:wrap;\n",
              "      gap: 12px;\n",
              "    }\n",
              "\n",
              "    .colab-df-convert {\n",
              "      background-color: #E8F0FE;\n",
              "      border: none;\n",
              "      border-radius: 50%;\n",
              "      cursor: pointer;\n",
              "      display: none;\n",
              "      fill: #1967D2;\n",
              "      height: 32px;\n",
              "      padding: 0 0 0 0;\n",
              "      width: 32px;\n",
              "    }\n",
              "\n",
              "    .colab-df-convert:hover {\n",
              "      background-color: #E2EBFA;\n",
              "      box-shadow: 0px 1px 2px rgba(60, 64, 67, 0.3), 0px 1px 3px 1px rgba(60, 64, 67, 0.15);\n",
              "      fill: #174EA6;\n",
              "    }\n",
              "\n",
              "    [theme=dark] .colab-df-convert {\n",
              "      background-color: #3B4455;\n",
              "      fill: #D2E3FC;\n",
              "    }\n",
              "\n",
              "    [theme=dark] .colab-df-convert:hover {\n",
              "      background-color: #434B5C;\n",
              "      box-shadow: 0px 1px 3px 1px rgba(0, 0, 0, 0.15);\n",
              "      filter: drop-shadow(0px 1px 2px rgba(0, 0, 0, 0.3));\n",
              "      fill: #FFFFFF;\n",
              "    }\n",
              "  </style>\n",
              "\n",
              "      <script>\n",
              "        const buttonEl =\n",
              "          document.querySelector('#df-dfdf027d-ff76-4799-93e1-4ca46840d232 button.colab-df-convert');\n",
              "        buttonEl.style.display =\n",
              "          google.colab.kernel.accessAllowed ? 'block' : 'none';\n",
              "\n",
              "        async function convertToInteractive(key) {\n",
              "          const element = document.querySelector('#df-dfdf027d-ff76-4799-93e1-4ca46840d232');\n",
              "          const dataTable =\n",
              "            await google.colab.kernel.invokeFunction('convertToInteractive',\n",
              "                                                     [key], {});\n",
              "          if (!dataTable) return;\n",
              "\n",
              "          const docLinkHtml = 'Like what you see? Visit the ' +\n",
              "            '<a target=\"_blank\" href=https://colab.research.google.com/notebooks/data_table.ipynb>data table notebook</a>'\n",
              "            + ' to learn more about interactive tables.';\n",
              "          element.innerHTML = '';\n",
              "          dataTable['output_type'] = 'display_data';\n",
              "          await google.colab.output.renderOutput(dataTable, element);\n",
              "          const docLink = document.createElement('div');\n",
              "          docLink.innerHTML = docLinkHtml;\n",
              "          element.appendChild(docLink);\n",
              "        }\n",
              "      </script>\n",
              "    </div>\n",
              "  </div>\n",
              "  "
            ]
          },
          "metadata": {},
          "execution_count": 48
        }
      ]
    },
    {
      "cell_type": "code",
      "source": [
        "embedding_model = Model(inputs=x_inp, outputs = x_out)\n",
        "emb = embedding_model.predict(all_gen)\n",
        "emb.shape"
      ],
      "metadata": {
        "colab": {
          "base_uri": "https://localhost:8080/"
        },
        "id": "Z4sfj1PT7U7A",
        "outputId": "2aab714d-2b6c-48b3-e39f-fd9307cc48bd"
      },
      "execution_count": 49,
      "outputs": [
        {
          "output_type": "stream",
          "name": "stdout",
          "text": [
            "1/1 [==============================] - 0s 238ms/step\n"
          ]
        },
        {
          "output_type": "execute_result",
          "data": {
            "text/plain": [
              "(1, 2708, 16)"
            ]
          },
          "metadata": {},
          "execution_count": 49
        }
      ]
    },
    {
      "cell_type": "code",
      "source": [
        "from sklearn.decomposition import PCA\n",
        "from sklearn.manifold import TSNE\n",
        "transform = PCA"
      ],
      "metadata": {
        "id": "aqL4Xwc48JXq"
      },
      "execution_count": 50,
      "outputs": []
    },
    {
      "cell_type": "code",
      "source": [
        "# emb = emb.squeeze(0)\n",
        "emb.shape"
      ],
      "metadata": {
        "colab": {
          "base_uri": "https://localhost:8080/"
        },
        "id": "Fp-aqVBi8lJ5",
        "outputId": "d7ce3e24-4b99-4160-8cbc-518d8b57780a"
      },
      "execution_count": 60,
      "outputs": [
        {
          "output_type": "execute_result",
          "data": {
            "text/plain": [
              "(2708, 16)"
            ]
          },
          "metadata": {},
          "execution_count": 60
        }
      ]
    },
    {
      "cell_type": "code",
      "source": [
        "# from sklearn import transform\n",
        "trans = transform(n_components = 2)\n",
        "emb_reduced = trans.fit_transform(emb)\n",
        "emb_reduced.shape"
      ],
      "metadata": {
        "colab": {
          "base_uri": "https://localhost:8080/"
        },
        "id": "F-Gi1M6Y8vMB",
        "outputId": "092c05e7-ff61-4d11-f6c3-cc50d7cff262"
      },
      "execution_count": 62,
      "outputs": [
        {
          "output_type": "execute_result",
          "data": {
            "text/plain": [
              "(2708, 2)"
            ]
          },
          "metadata": {},
          "execution_count": 62
        }
      ]
    },
    {
      "cell_type": "code",
      "source": [
        "fig, ax = plt.subplots(figsize=(7,7))\n",
        "ax.scatter(\n",
        "    emb_reduced[:,0],\n",
        "    emb_reduced[:,1],\n",
        "    c=node_subjects.astype(\"category\").cat.codes,\n",
        "    cmap=\"jet\",\n",
        "    alpha=0.7,\n",
        ")\n",
        "\n",
        "ax.set(\n",
        "    aspect = \"equal\",\n",
        "    xlabel = \"$X_1$\",\n",
        "    ylabel = \"$X_2$\",\n",
        "    title = f\"{transform.__name__} visualization of GCN embeddings for Cora dataset\"\n",
        ")"
      ],
      "metadata": {
        "colab": {
          "base_uri": "https://localhost:8080/",
          "height": 496
        },
        "id": "__Jj3FKJ9faM",
        "outputId": "a5cfe196-d091-4ee9-f1a7-78eb447cf7de"
      },
      "execution_count": 63,
      "outputs": [
        {
          "output_type": "execute_result",
          "data": {
            "text/plain": [
              "[Text(0, 0.5, '$X_2$'),\n",
              " Text(0.5, 0, '$X_1$'),\n",
              " Text(0.5, 1.0, 'PCA visualization of GCN embeddings for Cora dataset'),\n",
              " None]"
            ]
          },
          "metadata": {},
          "execution_count": 63
        },
        {
          "output_type": "display_data",
          "data": {
            "text/plain": [
              "<Figure size 504x504 with 1 Axes>"
            ],
            "image/png": "[encoded data removed]"
          },
          "metadata": {
            "needs_background": "light"
          }
        }
      ]
    }
  ]
}